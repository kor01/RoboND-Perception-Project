{
 "cells": [
  {
   "cell_type": "code",
   "execution_count": 1,
   "metadata": {
    "collapsed": true
   },
   "outputs": [],
   "source": [
    "import cv2\n",
    "import pickle\n",
    "import matplotlib.colors\n",
    "import matplotlib.pyplot as plt\n",
    "import numpy as np\n",
    "from sklearn import svm\n",
    "from sklearn.preprocessing import LabelEncoder, StandardScaler\n",
    "from sklearn import cross_validation\n",
    "from sklearn import metrics\n",
    "import itertools\n",
    "import pcl\n",
    "import struct\n",
    "import ctypes\n",
    "%matplotlib inline\n",
    "dataset = pickle.load(open('./training_set.sav', 'rb'))"
   ]
  },
  {
   "cell_type": "code",
   "execution_count": 34,
   "metadata": {
    "collapsed": true
   },
   "outputs": [],
   "source": [
    "NORM_BIN_SIZE = 64\n",
    "\n",
    "BIN_SIZE = 64\n",
    "\n",
    "USE_NORM = True\n",
    "\n",
    "def filter_train(classes):\n",
    "    ret = []\n",
    "    for d in dataset:\n",
    "        if d[2] in classes:\n",
    "            ret.append(d)\n",
    "    return ret\n",
    "\n",
    "\n",
    "def compute_color_histograms(cloud):\n",
    "    \n",
    "    point_colors_list = []\n",
    "    colors = cloud[:, 3:].reshape(1, -1, 3).astype('uint8')\n",
    "    colors = cv2.cvtColor(colors, cv2.COLOR_RGB2HSV_FULL)\n",
    "    colors = colors.reshape((-1, 3)).astype('float64')\n",
    "    channel_1_vals = colors[:, 0]\n",
    "    channel_2_vals = colors[:, 1]\n",
    "    channel_3_vals = colors[:, 2]\n",
    "    \n",
    "    hist_1 = np.histogram(channel_1_vals, bins=BIN_SIZE, range=(0, 256))\n",
    "    hist_2 = np.histogram(channel_2_vals, bins=BIN_SIZE, range=(0, 256))\n",
    "    hist_3 = np.histogram(channel_3_vals, bins=BIN_SIZE, range=(0, 256))\n",
    "    hist_features = np.concatenate((hist_1[0], hist_2[0], hist_3[0])).astype('float64')\n",
    "    hist_features = hist_features / hist_features.sum()\n",
    "    return hist_features\n",
    "\n",
    "\n",
    "def compute_normal_histograms(norm):\n",
    "    hist_1 = np.histogram(norm[:, 0], bins=NORM_BIN_SIZE, range=(-1.0, 1.0))\n",
    "    hist_2 = np.histogram(norm[:, 1], bins=NORM_BIN_SIZE, range=(-1.0, 1.0))\n",
    "    hist_3 = np.histogram(norm[:, 2], bins=NORM_BIN_SIZE, range=(-1.0, 1.0))\n",
    "    normed_features = np.concatenate(\n",
    "        (hist_1[0], hist_2[0], hist_3[0])).astype('float64')\n",
    "    return normed_features\n",
    "\n",
    "\n",
    "def plot_confusion_matrix(cm, classes,\n",
    "                          normalize=False,\n",
    "                          title='Confusion matrix',\n",
    "                          cmap=plt.cm.Blues):\n",
    "    \"\"\"                                                                                                                                                                                                     \n",
    "    This function prints and plots the confusion matrix.                                                                                                                                                    \n",
    "    Normalization can be applied by setting `normalize=True`.                                                                                                                                               \n",
    "    \"\"\"\n",
    "    if normalize:\n",
    "        cm = cm.astype('float') / cm.sum(axis=1)[:, np.newaxis]\n",
    "    plt.imshow(cm, interpolation='nearest', cmap=cmap)\n",
    "    plt.title(title)\n",
    "    plt.colorbar()\n",
    "    tick_marks = np.arange(len(classes))\n",
    "    plt.xticks(tick_marks, classes, rotation=45)\n",
    "    plt.yticks(tick_marks, classes)\n",
    "\n",
    "    thresh = cm.max() / 2.\n",
    "    for i, j in itertools.product(range(cm.shape[0]), range(cm.shape[1])):\n",
    "        plt.text(j, i, '{0:.2f}'.format(cm[i, j]),\n",
    "                 horizontalalignment=\"center\",\n",
    "                 color=\"white\" if cm[i, j] > thresh else \"black\")\n",
    "\n",
    "    plt.tight_layout()\n",
    "    plt.ylabel('True label')\n",
    "    plt.xlabel('Predicted label')\n",
    "\n",
    "def train_svm(name, features, labels):\n",
    "    X = np.array(features)\n",
    "    # Fit a per-column scaler                                                                                                                                                                                   \n",
    "    X_scaler = StandardScaler().fit(X)\n",
    "    # Apply the scaler to X                                                                                                                                                                                     \n",
    "    X_train = X_scaler.transform(X)\n",
    "    y_train = np.array(labels)\n",
    "\n",
    "    # Convert label strings to numerical encoding                                                                                                                                                               \n",
    "    encoder = LabelEncoder()\n",
    "    y_train = encoder.fit_transform(y_train)\n",
    "    # Create classifier                                                                                                                                                                                         \n",
    "    #clf = svm.SVC(kernel='linear', C=10.0, tol=1e-5, gamma= 1.0 / 384)\n",
    "    clf = svm.SVC(kernel='linear', decision_function_shape='ovr')\n",
    "    # Set up 5-fold cross-validation                                                                                                                                                                            \n",
    "    kf = cross_validation.KFold(len(X_train),\n",
    "                                n_folds=5,\n",
    "                                shuffle=True,\n",
    "                                random_state=1)\n",
    "    # Perform cross-validation                                                                                                                                                                                  \n",
    "    scores = cross_validation.cross_val_score(\n",
    "        cv=kf, estimator=clf, X=X_train, y=y_train, scoring='accuracy')\n",
    "\n",
    "    print('Scores: ' + str(scores))\n",
    "    print('Accuracy: %0.2f (+/- %0.2f)' % (scores.mean(), 2*scores.std()))\n",
    "    \n",
    "    # Gather predictions                                                                                                                                                                                        \n",
    "    predictions = cross_validation.cross_val_predict(\n",
    "        cv=kf, estimator=clf, X=X_train, y=y_train)\n",
    "\n",
    "    accuracy_score = metrics.accuracy_score(y_train, predictions)\n",
    "    print('accuracy score: '+str(accuracy_score))\n",
    "\n",
    "    confusion_matrix = metrics.confusion_matrix(y_train, predictions)\n",
    "\n",
    "    class_names = encoder.classes_.tolist()\n",
    "\n",
    "    #Train the classifier                                                                                                                                                                                       \n",
    "    clf.fit(X=X_train, y=y_train)\n",
    "\n",
    "    model = {'classifier': clf, 'classes': encoder.classes_, \n",
    "             'scaler': X_scaler, 'norm_bins': NORM_BIN_SIZE, 'color_bins': BIN_SIZE}\n",
    "\n",
    "    # Save classifier to disk                                                                                                                                                                                   \n",
    "    pickle.dump(model, open('%s.sav' % name, 'wb'))\n",
    "\n",
    "    # Plot non-normalized confusion matrix                                                                                                                                                                      \n",
    "    plt.figure()\n",
    "    plot_confusion_matrix(confusion_matrix, classes=encoder.classes_,\n",
    "                      title='Confusion matrix, without normalization')\n",
    "\n",
    "    # Plot normalized confusion matrix                                                                                                                                                                          \n",
    "    plt.figure()\n",
    "    plot_confusion_matrix(confusion_matrix, classes=encoder.classes_, normalize=True,\n",
    "                      title='Normalized confusion matrix')\n",
    "\n",
    "    plt.show()\n",
    "    return clf, encoder, X_scaler, X_train\n",
    "\n",
    "    \n",
    "def extract_features(cloud, norm):\n",
    "    color_hist = compute_color_histograms(cloud)\n",
    "    if USE_NORM:\n",
    "        norm_hist = compute_normal_histograms(norm)\n",
    "        feature = np.concatenate((color_hist, norm_hist))\n",
    "        return feature\n",
    "    else:\n",
    "        return color_hist"
   ]
  },
  {
   "cell_type": "code",
   "execution_count": 35,
   "metadata": {
    "collapsed": false,
    "scrolled": false
   },
   "outputs": [
    {
     "name": "stdout",
     "output_type": "stream",
     "text": [
      "Scores: [ 1.          0.97777778  0.98888889  0.97777778  1.        ]\n",
      "Accuracy: 0.99 (+/- 0.02)\n",
      "accuracy score: 0.988888888889\n"
     ]
    },
    {
     "data": {
      "image/png": "[encoded data removed]",
      "text/plain": [
       "<matplotlib.figure.Figure at 0x7fbb01ef81d0>"
      ]
     },
     "metadata": {},
     "output_type": "display_data"
    },
    {
     "data": {
      "image/png": "[encoded data removed]",
      "text/plain": [
       "<matplotlib.figure.Figure at 0x7fbb019a8bd0>"
      ]
     },
     "metadata": {},
     "output_type": "display_data"
    }
   ],
   "source": [
    "train_set, labels = [], []\n",
    "#classes = ['biscuits','soap', 'soap2', 'glue', 'book', 'sticky_notes', 'snacks', 'eraser']\n",
    "classes = ['biscuits','soap', 'soap2']\n",
    "this_dataset = filter_train(classes=classes)\n",
    "for cloud, norm, label in this_dataset:\n",
    "    train_set.append(extract_features(cloud, norm))\n",
    "    labels.append(label)\n",
    "clf, encoder, scaler, x_train = train_svm('svm_model_1', train_set, labels)"
   ]
  },
  {
   "cell_type": "code",
   "execution_count": 4,
   "metadata": {
    "collapsed": false
   },
   "outputs": [],
   "source": [
    "features = pickle.load(open('./feature_dump.sav', 'rb'))"
   ]
  },
  {
   "cell_type": "code",
   "execution_count": 24,
   "metadata": {
    "collapsed": true
   },
   "outputs": [],
   "source": [
    "def predict_example(example):\n",
    "    ret = scaler.transform(example.reshape(1, -1))\n",
    "    return encoder.inverse_transform(clf.predict(ret))"
   ]
  },
  {
   "cell_type": "code",
   "execution_count": 25,
   "metadata": {
    "collapsed": false
   },
   "outputs": [
    {
     "name": "stdout",
     "output_type": "stream",
     "text": [
      "biscuits biscuits\n"
     ]
    }
   ],
   "source": [
    "idx = 50\n",
    "print predict_example(train_set[idx])[0], labels[idx]"
   ]
  },
  {
   "cell_type": "code",
   "execution_count": 29,
   "metadata": {
    "collapsed": false
   },
   "outputs": [
    {
     "name": "stdout",
     "output_type": "stream",
     "text": [
      "['soap2']\n"
     ]
    }
   ],
   "source": [
    "print predict_example(features[3])"
   ]
  },
  {
   "cell_type": "code",
   "execution_count": 18,
   "metadata": {
    "collapsed": false
   },
   "outputs": [
    {
     "name": "stdout",
     "output_type": "stream",
     "text": [
      "1200\n"
     ]
    }
   ],
   "source": [
    "print len(train_set)"
   ]
  },
  {
   "cell_type": "code",
   "execution_count": 17,
   "metadata": {
    "collapsed": false,
    "scrolled": false
   },
   "outputs": [
    {
     "data": {
      "text/plain": [
       "array([[ 102.,  100.,   51.],\n",
       "       [ 109.,  107.,   50.],\n",
       "       [ 152.,  149.,   89.],\n",
       "       ..., \n",
       "       [ 170.,  161.,    5.],\n",
       "       [ 201.,  190.,    3.],\n",
       "       [ 222.,  210.,    0.]])"
      ]
     },
     "execution_count": 17,
     "metadata": {},
     "output_type": "execute_result"
    }
   ],
   "source": [
    "dataset[3][0][:, 3:]"
   ]
  },
  {
   "cell_type": "code",
   "execution_count": null,
   "metadata": {
    "collapsed": true
   },
   "outputs": [],
   "source": []
  }
 ],
 "metadata": {
  "kernelspec": {
   "display_name": "Python [Root]",
   "language": "python",
   "name": "Python [Root]"
  },
  "language_info": {
   "codemirror_mode": {
    "name": "ipython",
    "version": 2
   },
   "file_extension": ".py",
   "mimetype": "text/x-python",
   "name": "python",
   "nbconvert_exporter": "python",
   "pygments_lexer": "ipython2",
   "version": "2.7.12"
  }
 },
 "nbformat": 4,
 "nbformat_minor": 2
}
